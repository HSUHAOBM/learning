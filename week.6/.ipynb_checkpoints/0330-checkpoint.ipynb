{
 "cells": [
  {
   "cell_type": "code",
   "execution_count": 35,
   "metadata": {},
   "outputs": [
    {
     "name": "stdout",
     "output_type": "stream",
     "text": [
      " * Serving Flask app \"__main__\" (lazy loading)\n",
      " * Environment: production\n",
      "   WARNING: This is a development server. Do not use it in a production deployment.\n",
      "   Use a production WSGI server instead.\n",
      " * Debug mode: off\n"
     ]
    },
    {
     "name": "stderr",
     "output_type": "stream",
     "text": [
      " * Running on http://127.0.0.1:3000/ (Press CTRL+C to quit)\n",
      "127.0.0.1 - - [31/Mar/2021 01:43:18] \"\u001b[37mGET / HTTP/1.1\u001b[0m\" 200 -\n",
      "[2021-03-31 01:43:27,304] ERROR in app: Exception on /signin [POST]\n",
      "Traceback (most recent call last):\n",
      "  File \"Z:\\ProgramData\\Anaconda3\\lib\\site-packages\\flask\\app.py\", line 2447, in wsgi_app\n",
      "    response = self.full_dispatch_request()\n",
      "  File \"Z:\\ProgramData\\Anaconda3\\lib\\site-packages\\flask\\app.py\", line 1952, in full_dispatch_request\n",
      "    rv = self.handle_user_exception(e)\n",
      "  File \"Z:\\ProgramData\\Anaconda3\\lib\\site-packages\\flask\\app.py\", line 1821, in handle_user_exception\n",
      "    reraise(exc_type, exc_value, tb)\n",
      "  File \"Z:\\ProgramData\\Anaconda3\\lib\\site-packages\\flask\\_compat.py\", line 39, in reraise\n",
      "    raise value\n",
      "  File \"Z:\\ProgramData\\Anaconda3\\lib\\site-packages\\flask\\app.py\", line 1950, in full_dispatch_request\n",
      "    rv = self.dispatch_request()\n",
      "  File \"Z:\\ProgramData\\Anaconda3\\lib\\site-packages\\flask\\app.py\", line 1936, in dispatch_request\n",
      "    return self.view_functions[rule.endpoint](**req.view_args)\n",
      "  File \"<ipython-input-35-f72b64550a95>\", line 107, in Signin\n",
      "    print(records[0][0],\"的密碼為:\"+records[0][1])\n",
      "IndexError: list index out of range\n",
      "127.0.0.1 - - [31/Mar/2021 01:43:27] \"\u001b[35m\u001b[1mPOST /signin HTTP/1.1\u001b[0m\" 500 -\n"
     ]
    },
    {
     "name": "stdout",
     "output_type": "stream",
     "text": [
      "帳號正確。。開始檢查密碼\n",
      "資料庫連線已關閉\n"
     ]
    }
   ],
   "source": [
    "from flask import Flask,session\n",
    "from flask import request\n",
    "from flask import redirect #導向\n",
    "import json\n",
    "import os\n",
    "from datetime import timedelta\n",
    "import mysql.connector\n",
    "\n",
    "\n",
    "\n",
    "from flask import render_template#樣板\n",
    "\n",
    "app=Flask(\n",
    "    __name__,\n",
    "    static_folder=\"static\",\n",
    "    static_url_path=\"/\")\n",
    "\n",
    "app.config['SECRET_KEY'] = 'laowangaigebi' #key\n",
    "\n",
    "\n",
    "#首頁\n",
    "@app.route(\"/\")\n",
    "def home():\n",
    "    username = session.get('username')\n",
    "    ReUser=session.get('name')\n",
    "    if username:\n",
    "        return render_template(\"indexmenber.html\",user=ReUser)\n",
    "    else:\n",
    "        return render_template(\"index.html\")\n",
    "\n",
    "#註冊\n",
    "@app.route(\"/registered\", methods=[\"POST\"])\n",
    "def Registered():\n",
    "    ReUser=request.form[\"username\"]\n",
    "\n",
    "    ReAccount=request.form[\"useraccount\"]\n",
    "    RePassword=request.form[\"userpassword\"]\n",
    "#     print(ReUser,ReAccount,RePassword)\n",
    "\n",
    "    try:\n",
    "        DBUserNameList=[]\n",
    "        connection = mysql.connector.connect(\n",
    "        host='localhost',         \n",
    "        database='website', \n",
    "        user='root',      # 資料庫帳號\n",
    "        password='root')  # 資料庫密碼\n",
    "\n",
    "        #檢查是否註冊過\n",
    "        cursor = connection.cursor()\n",
    "        cursor.execute(\"SELECT username FROM user;\")\n",
    "        records = cursor.fetchall()\n",
    "\n",
    "\n",
    "        for i in range(cursor.rowcount):\n",
    "            DBUserNameList.append(records[i][0])\n",
    "            \n",
    "        if (ReAccount in DBUserNameList):\n",
    "            print(\"註冊過了\")\n",
    "            return redirect('/error/?message=此帳號已註冊使用')\n",
    "\n",
    "            \n",
    "\n",
    "        else:\n",
    "            print(\"開始新增資料\")\n",
    "            #指令\n",
    "            sql = \"INSERT INTO user (name, username, password) VALUES (%s, %s, %s);\"\n",
    "            new_data = (ReUser, ReAccount, RePassword)\n",
    "            cursor = connection.cursor()\n",
    "            cursor.execute(sql, new_data)\n",
    "            connection.commit()\n",
    "            return redirect('/')\n",
    "\n",
    "    finally:\n",
    "        if (connection.is_connected()):\n",
    "            cursor.close()\n",
    "            connection.close()\n",
    "            print(\"資料庫連線已關閉\")\n",
    "\n",
    "\n",
    "\n",
    "#登入\n",
    "@app.route(\"/signin\", methods=[\"POST\"])\n",
    "def Signin():\n",
    "    Account=request.form[\"account\"]\n",
    "    Password=request.form[\"password\"]\n",
    "    \n",
    "    try:\n",
    "        DBUserNameList=[]\n",
    "        connection = mysql.connector.connect(\n",
    "        host='localhost',         \n",
    "        database='website', \n",
    "        user='root',      # 資料庫帳號\n",
    "        password='root')  # 資料庫密碼\n",
    "        cursor = connection.cursor()\n",
    "\n",
    "    #檢查是否註冊過\n",
    "        cursor = connection.cursor()\n",
    "        cursor.execute(\"SELECT username FROM user;\")\n",
    "        records = cursor.fetchall()\n",
    "        for i in range(cursor.rowcount):\n",
    "            DBUserNameList.append(records[i][0])\n",
    "        \n",
    "        if (Account in DBUserNameList):\n",
    "            print(\"帳號正確。。開始檢查密碼\")\n",
    "            cursor.execute(\"SELECT name,password FROM user WHERE username= '%s';\" % (Account))\n",
    "            records = cursor.fetchall()\n",
    "            print(records[0][0],\"的密碼為:\"+records[0][1])\n",
    "\n",
    "            if (Password==records[0][1]):\n",
    "                print(\"密碼驗證成功\")\n",
    "                session['username'] = Account\n",
    "                session['name']=records[0][0]\n",
    "                return redirect('/menber')\n",
    "            else:\n",
    "                print(\"密碼錯誤\")\n",
    "                return redirect('/error/?message=帳號或密碼輸入錯誤')\n",
    "\n",
    "        else:\n",
    "            print(\"帳號錯誤\")\n",
    "            return redirect('/error/?message=帳號或密碼輸入錯誤')\n",
    "    finally:\n",
    "        if (connection.is_connected()):\n",
    "            cursor.close()\n",
    "            connection.close()\n",
    "            print(\"資料庫連線已關閉\")\n",
    "\n",
    "\n",
    "#會員\n",
    "@app.route(\"/menber\")\n",
    "def Menber():\n",
    "    username = session.get('username')\n",
    "    ReUser=session.get('name')\n",
    "    if username:\n",
    "        return render_template(\"indexmenber.html\",user=ReUser)\n",
    "    else:\n",
    "        return redirect('/')\n",
    "\n",
    "#錯誤\n",
    "@app.route(\"/error/\") #http://127.0.0.1:3000/error/?message=自訂的錯誤訊息\n",
    "def Error():\n",
    "    html_text=request.args.get(\"message\",\"自訂的錯誤訊息\")\n",
    "    \n",
    "    return render_template(\"indexerror.html\",text=html_text)\n",
    "\n",
    "#登出\n",
    "@app.route(\"/signout\", methods=[\"GET\"])\n",
    "def Signout():\n",
    "    session.clear() #清除\n",
    "#     print(\"登出\")\n",
    "    return redirect('/')\n",
    "\n",
    "app.run(port=3000)"
   ]
  },
  {
   "cell_type": "code",
   "execution_count": 34,
   "metadata": {},
   "outputs": [
    {
     "ename": "NameError",
     "evalue": "name 'records' is not defined",
     "output_type": "error",
     "traceback": [
      "\u001b[1;31m---------------------------------------------------------------------------\u001b[0m",
      "\u001b[1;31mNameError\u001b[0m                                 Traceback (most recent call last)",
      "\u001b[1;32m<ipython-input-34-f8d3eda2fc1d>\u001b[0m in \u001b[0;36m<module>\u001b[1;34m\u001b[0m\n\u001b[1;32m----> 1\u001b[1;33m \u001b[0mrecords\u001b[0m\u001b[1;33m\u001b[0m\u001b[1;33m\u001b[0m\u001b[0m\n\u001b[0m",
      "\u001b[1;31mNameError\u001b[0m: name 'records' is not defined"
     ]
    }
   ],
   "source": []
  },
  {
   "cell_type": "code",
   "execution_count": 25,
   "metadata": {},
   "outputs": [
    {
     "name": "stdout",
     "output_type": "stream",
     "text": [
      "<mysql.connector.connection_cext.CMySQLConnection object at 0x0000000005511B88>\n"
     ]
    }
   ],
   "source": [
    "import mysql.connector\n",
    "\n",
    "mydb = mysql.connector.connect(\n",
    "  host=\"localhost\",\n",
    "  user=\"root\",\n",
    "  password=\"root\"\n",
    ")\n",
    "\n",
    "print(mydb)"
   ]
  },
  {
   "cell_type": "code",
   "execution_count": 26,
   "metadata": {},
   "outputs": [
    {
     "name": "stdout",
     "output_type": "stream",
     "text": [
      "資料庫版本： 8.0.23\n",
      "目前使用的資料庫： ('website',)\n",
      "資料庫連線已關閉\n"
     ]
    }
   ],
   "source": [
    "try:\n",
    "    # 連接 MySQL/MariaDB 資料庫\n",
    "    connection = mysql.connector.connect(\n",
    "        host='localhost',          # 主機名稱\n",
    "        database='website', # 資料庫名稱\n",
    "        user='root',        # 帳號\n",
    "        password='root')  # 密碼\n",
    "\n",
    "    if connection.is_connected():\n",
    "\n",
    "        # 顯示資料庫版本\n",
    "        db_Info = connection.get_server_info()\n",
    "        print(\"資料庫版本：\", db_Info)\n",
    "\n",
    "        # 顯示目前使用的資料庫\n",
    "        cursor = connection.cursor()\n",
    "        cursor.execute(\"SELECT DATABASE();\")\n",
    "        record = cursor.fetchone()\n",
    "        print(\"目前使用的資料庫：\", record)\n",
    "\n",
    "except Error as e:\n",
    "    print(\"資料庫連接失敗：\", e)\n",
    "\n",
    "finally:\n",
    "    if (connection.is_connected()):\n",
    "        cursor.close()\n",
    "        connection.close()\n",
    "        print(\"資料庫連線已關閉\")"
   ]
  },
  {
   "cell_type": "code",
   "execution_count": 49,
   "metadata": {},
   "outputs": [],
   "source": [
    "connection = mysql.connector.connect(\n",
    "    host='localhost',          # 主機名稱\n",
    "    database='website', # 資料庫名稱\n",
    "    user='root',        # 帳號\n",
    "    password='root')  # 密碼"
   ]
  },
  {
   "cell_type": "code",
   "execution_count": 61,
   "metadata": {
    "scrolled": true
   },
   "outputs": [],
   "source": [
    "cursor = connection.cursor()\n",
    "cursor.execute(\"SELECT username FROM user;\")"
   ]
  },
  {
   "cell_type": "code",
   "execution_count": 62,
   "metadata": {},
   "outputs": [
    {
     "name": "stdout",
     "output_type": "stream",
     "text": [
      "資料筆數： 12\n"
     ]
    }
   ],
   "source": [
    "records = cursor.fetchall()\n",
    "print(\"資料筆數：\", cursor.rowcount)\n"
   ]
  },
  {
   "cell_type": "code",
   "execution_count": 63,
   "metadata": {},
   "outputs": [
    {
     "data": {
      "text/plain": [
       "[('ply',),\n",
       " ('ttt',),\n",
       " ('bbb',),\n",
       " ('jjj',),\n",
       " ('ppp',),\n",
       " ('aaa',),\n",
       " ('ddd',),\n",
       " ('ppp',),\n",
       " ('1ll3',),\n",
       " ('1ll3',),\n",
       " ('1ll3',),\n",
       " ('564789s',)]"
      ]
     },
     "execution_count": 63,
     "metadata": {},
     "output_type": "execute_result"
    }
   ],
   "source": [
    "records"
   ]
  },
  {
   "cell_type": "code",
   "execution_count": 70,
   "metadata": {},
   "outputs": [],
   "source": [
    "DBUserNameList=[]\n",
    "for i in range(cursor.rowcount):\n",
    "    DBUserNameList.append(records[i][0])\n"
   ]
  },
  {
   "cell_type": "code",
   "execution_count": 71,
   "metadata": {},
   "outputs": [
    {
     "data": {
      "text/plain": [
       "['ply',\n",
       " 'ttt',\n",
       " 'bbb',\n",
       " 'jjj',\n",
       " 'ppp',\n",
       " 'aaa',\n",
       " 'ddd',\n",
       " 'ppp',\n",
       " '1ll3',\n",
       " '1ll3',\n",
       " '1ll3',\n",
       " '564789s']"
      ]
     },
     "execution_count": 71,
     "metadata": {},
     "output_type": "execute_result"
    }
   ],
   "source": [
    "DBUserNameList\n"
   ]
  },
  {
   "cell_type": "code",
   "execution_count": 72,
   "metadata": {},
   "outputs": [
    {
     "data": {
      "text/plain": [
       "True"
      ]
     },
     "execution_count": 72,
     "metadata": {},
     "output_type": "execute_result"
    }
   ],
   "source": [
    "\"ply\" in DBUserNameList"
   ]
  },
  {
   "cell_type": "code",
   "execution_count": null,
   "metadata": {},
   "outputs": [],
   "source": []
  },
  {
   "cell_type": "code",
   "execution_count": 65,
   "metadata": {},
   "outputs": [
    {
     "data": {
      "text/plain": [
       "True"
      ]
     },
     "execution_count": 65,
     "metadata": {},
     "output_type": "execute_result"
    }
   ],
   "source": [
    "\"ply\" in records[0][0]"
   ]
  },
  {
   "cell_type": "code",
   "execution_count": 40,
   "metadata": {},
   "outputs": [],
   "source": [
    "sql = \"INSERT INTO user (name, username, password) VALUES (%s, %s, %s);\"\n",
    "new_data = (\"Jack\", \"1ll3\", \"Kaohsiung\")\n",
    "cursor = connection.cursor()\n",
    "cursor.execute(sql, new_data)\n",
    "connection.commit()"
   ]
  },
  {
   "cell_type": "code",
   "execution_count": 43,
   "metadata": {},
   "outputs": [
    {
     "name": "stdout",
     "output_type": "stream",
     "text": [
      "新增成功\n",
      "資料庫連線已關閉\n"
     ]
    }
   ],
   "source": [
    "try:\n",
    "    connection = mysql.connector.connect(\n",
    "    host='localhost',         \n",
    "    database='website', \n",
    "    user='root',      # 資料庫帳號\n",
    "    password='root')  # 資料庫密碼\n",
    "    \n",
    "    #指令\n",
    "    sql = \"INSERT INTO user (name, username, password) VALUES (%s, %s, %s);\"\n",
    "    new_data = (\"Jack\", \"1ll3\", \"Kaohsiung\")\n",
    "    cursor = connection.cursor()\n",
    "    cursor.execute(sql, new_data)\n",
    "    connection.commit()\n",
    "    print(\"新增成功\")\n",
    "finally:\n",
    "    if (connection.is_connected()):\n",
    "        cursor.close()\n",
    "        connection.close()\n",
    "        print(\"資料庫連線已關閉\")\n"
   ]
  },
  {
   "cell_type": "code",
   "execution_count": 26,
   "metadata": {},
   "outputs": [
    {
     "ename": "SyntaxError",
     "evalue": "unexpected EOF while parsing (<ipython-input-26-0d30d55627cd>, line 21)",
     "output_type": "error",
     "traceback": [
      "\u001b[1;36m  File \u001b[1;32m\"<ipython-input-26-0d30d55627cd>\"\u001b[1;36m, line \u001b[1;32m21\u001b[0m\n\u001b[1;33m    \u001b[0m\n\u001b[1;37m    ^\u001b[0m\n\u001b[1;31mSyntaxError\u001b[0m\u001b[1;31m:\u001b[0m unexpected EOF while parsing\n"
     ]
    }
   ],
   "source": [
    "try:\n",
    "    DBUserNameList=[]\n",
    "    connection = mysql.connector.connect(\n",
    "    host='localhost',         \n",
    "    database='website', \n",
    "    user='root',      # 資料庫帳號\n",
    "    password='root')  # 資料庫密碼\n",
    "\n",
    "    #檢查是否註冊過\n",
    "   \n",
    "\n",
    "    for i in range(cursor.rowcount):\n",
    "        DBUserNameList.append(records[i][0])\n",
    "\n",
    "    if (ReAccount in DBUserNameList):\n",
    "        print(\"帳號正確。。開始檢查密碼\")\n",
    "        cursor.execute(\"SELECT password FROM user WHERE username= '%s';\" % (uername))\n",
    "        records = cursor.fetchall()\n",
    "        print(uername,\"的密碼為:\"+records[0][0])\n",
    "        if (records[0][0]=):\n",
    "            \n",
    "        return redirect('/error/?message=此帳號已註冊使用')\n",
    "\n",
    "\n",
    "\n",
    "    else:\n",
    "         return redirect('/error/?message=帳號或密碼輸入錯誤')\n"
   ]
  },
  {
   "cell_type": "code",
   "execution_count": 1,
   "metadata": {},
   "outputs": [],
   "source": [
    "import mysql.connector\n"
   ]
  },
  {
   "cell_type": "code",
   "execution_count": 2,
   "metadata": {},
   "outputs": [],
   "source": [
    "    DBUserNameList=[]\n",
    "    connection = mysql.connector.connect(\n",
    "    host='localhost',         \n",
    "    database='website', \n",
    "    user='root',      # 資料庫帳號\n",
    "    password='root')  # 資料庫密碼"
   ]
  },
  {
   "cell_type": "code",
   "execution_count": 44,
   "metadata": {},
   "outputs": [
    {
     "name": "stdout",
     "output_type": "stream",
     "text": [
      "Hao123 的密碼為:123456\n"
     ]
    }
   ],
   "source": [
    "    uername=\"hao123\"\n",
    "    cursor = connection.cursor()\n",
    "\n",
    "    cursor.execute(\"SELECT name,password FROM user WHERE username= '%s';\" % (uername))\n",
    "\n",
    "    records = cursor.fetchall()\n",
    "    print(records[0][0],\"的密碼為:\"+records[0][1])"
   ]
  },
  {
   "cell_type": "code",
   "execution_count": 42,
   "metadata": {},
   "outputs": [
    {
     "data": {
      "text/plain": [
       "[('Hao123', '123456')]"
      ]
     },
     "execution_count": 42,
     "metadata": {},
     "output_type": "execute_result"
    }
   ],
   "source": [
    "records"
   ]
  },
  {
   "cell_type": "code",
   "execution_count": 28,
   "metadata": {},
   "outputs": [
    {
     "name": "stdout",
     "output_type": "stream",
     "text": [
      "hao123 的密碼為:123456\n"
     ]
    }
   ],
   "source": [
    "cursor.execute(\"SELECT password FROM user WHERE username= '%s';\" % (uername))\n",
    "\n",
    "records = cursor.fetchall()\n",
    "print(uername,\"的密碼為:\"+records[0][0])"
   ]
  },
  {
   "cell_type": "code",
   "execution_count": 34,
   "metadata": {},
   "outputs": [],
   "source": [
    "a=records[0][0]"
   ]
  },
  {
   "cell_type": "code",
   "execution_count": 35,
   "metadata": {},
   "outputs": [
    {
     "data": {
      "text/plain": [
       "'123456'"
      ]
     },
     "execution_count": 35,
     "metadata": {},
     "output_type": "execute_result"
    }
   ],
   "source": [
    "a\n"
   ]
  },
  {
   "cell_type": "code",
   "execution_count": 39,
   "metadata": {},
   "outputs": [],
   "source": [
    "b=123456"
   ]
  },
  {
   "cell_type": "code",
   "execution_count": 40,
   "metadata": {},
   "outputs": [
    {
     "data": {
      "text/plain": [
       "123456"
      ]
     },
     "execution_count": 40,
     "metadata": {},
     "output_type": "execute_result"
    }
   ],
   "source": [
    "b"
   ]
  },
  {
   "cell_type": "code",
   "execution_count": null,
   "metadata": {},
   "outputs": [],
   "source": []
  },
  {
   "cell_type": "code",
   "execution_count": 8,
   "metadata": {},
   "outputs": [
    {
     "ename": "NameError",
     "evalue": "name 'cursor' is not defined",
     "output_type": "error",
     "traceback": [
      "\u001b[1;31m---------------------------------------------------------------------------\u001b[0m",
      "\u001b[1;31mNameError\u001b[0m                                 Traceback (most recent call last)",
      "\u001b[1;32m<ipython-input-8-82ae04c18e64>\u001b[0m in \u001b[0;36m<module>\u001b[1;34m\u001b[0m\n\u001b[1;32m----> 1\u001b[1;33m \u001b[0mcursor\u001b[0m\u001b[1;33m.\u001b[0m\u001b[0mexecute\u001b[0m\u001b[1;33m(\u001b[0m\u001b[1;34m\"SELECT name,password FROM user WHERE username= '%s';\"\u001b[0m \u001b[1;33m%\u001b[0m \u001b[1;33m(\u001b[0m\u001b[0mAccount\u001b[0m\u001b[1;33m)\u001b[0m\u001b[1;33m)\u001b[0m\u001b[1;33m\u001b[0m\u001b[1;33m\u001b[0m\u001b[0m\n\u001b[0m\u001b[0;32m      2\u001b[0m \u001b[0mrecords\u001b[0m \u001b[1;33m=\u001b[0m \u001b[0mcursor\u001b[0m\u001b[1;33m.\u001b[0m\u001b[0mfetchall\u001b[0m\u001b[1;33m(\u001b[0m\u001b[1;33m)\u001b[0m\u001b[1;33m\u001b[0m\u001b[1;33m\u001b[0m\u001b[0m\n",
      "\u001b[1;31mNameError\u001b[0m: name 'cursor' is not defined"
     ]
    }
   ],
   "source": []
  },
  {
   "cell_type": "code",
   "execution_count": 39,
   "metadata": {},
   "outputs": [
    {
     "name": "stdout",
     "output_type": "stream",
     "text": [
      "帳號正確。。開始檢查密碼\n",
      "許豪豪 的密碼為:eason\n"
     ]
    }
   ],
   "source": [
    "DBUserNameList=[]\n",
    "connection = mysql.connector.connect(\n",
    "host='localhost',         \n",
    "database='website', \n",
    "user='root',      # 資料庫帳號\n",
    "password='root')  # 資料庫密碼\n",
    "cursor = connection.cursor()\n",
    "Account=\"eason\"\n",
    "#檢查是否註冊過\n",
    "cursor = connection.cursor()\n",
    "cursor.execute(\"SELECT username FROM user;\")\n",
    "records = cursor.fetchall()\n",
    "for i in range(cursor.rowcount):\n",
    "    DBUserNameList.append(records[i][0])\n",
    "\n",
    "if (Account in DBUserNameList):\n",
    "    print(\"帳號正確。。開始檢查密碼\")\n",
    "    cursor.execute(\"SELECT name,password FROM user WHERE username= '%s';\" % (Account))\n",
    "    records = cursor.fetchall()\n",
    "    print(records[0][0],\"的密碼為:\"+records[0][1])"
   ]
  },
  {
   "cell_type": "code",
   "execution_count": 38,
   "metadata": {},
   "outputs": [
    {
     "data": {
      "text/plain": [
       "[]"
      ]
     },
     "execution_count": 38,
     "metadata": {},
     "output_type": "execute_result"
    }
   ],
   "source": [
    "records"
   ]
  },
  {
   "cell_type": "code",
   "execution_count": null,
   "metadata": {},
   "outputs": [],
   "source": []
  }
 ],
 "metadata": {
  "kernelspec": {
   "display_name": "Python 3",
   "language": "python",
   "name": "python3"
  },
  "language_info": {
   "codemirror_mode": {
    "name": "ipython",
    "version": 3
   },
   "file_extension": ".py",
   "mimetype": "text/x-python",
   "name": "python",
   "nbconvert_exporter": "python",
   "pygments_lexer": "ipython3",
   "version": "3.7.9"
  }
 },
 "nbformat": 4,
 "nbformat_minor": 4
}
